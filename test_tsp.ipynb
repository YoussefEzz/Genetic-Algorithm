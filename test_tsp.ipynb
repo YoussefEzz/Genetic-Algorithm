{
 "cells": [
  {
   "cell_type": "code",
   "execution_count": 2,
   "metadata": {},
   "outputs": [
    {
     "name": "stdout",
     "output_type": "stream",
     "text": [
      "NAME: 15 cities\n",
      "TYPE: TSP\n",
      "DIMENSION: 15\n",
      "NODE_COORD_TYPE: NO_COORDS\n",
      "EDGE_WEIGHT_TYPE: EXPLICIT\n",
      "DISPLAY_DATA_TYPE: NO_DISPLAY\n",
      "EDGE_WEIGHT_FORMAT: FULL_MATRIX\n",
      "EDGE_WEIGHT_SECTION:\n",
      "0 29 82 46 68 52 72 42 51 55 29 74 23 72 46\n",
      "29 0 55 46 42 43 43 23 23 31 41 51 11 52 21\n",
      "82 55 0 68 46 55 23 43 41 29 79 21 64 31 51\n",
      "46 46 68 0 82 15 72 31 62 42 21 51 51 43 64\n",
      "68 42 46 82 0 74 23 52 21 46 82 58 46 65 23\n",
      "52 43 55 15 74 0 61 23 55 31 33 37 51 29 59\n",
      "72 43 23 72 23 61 0 42 23 31 77 37 51 46 33\n",
      "42 23 43 31 52 23 42 0 33 15 37 33 33 31 37\n",
      "51 23 41 62 21 55 23 33 0 29 62 46 29 51 11\n",
      "55 31 29 42 46 31 31 15 29 0 51 21 41 23 37\n",
      "29 41 79 21 82 33 77 37 62 51 0 65 42 59 61\n",
      "74 51 21 51 58 37 37 33 46 21 65 0 61 11 55\n",
      "23 11 64 51 46 51 51 33 29 41 42 61 0 62 23\n",
      "72 52 31 43 65 29 46 31 51 23 59 11 62 0 59\n",
      "46 21 51 64 23 59 33 37 11 37 61 55 23 59 0\n",
      "TOUR_SECTION:\n",
      "1 13 2 15 9 5 7 3 12 14 10 8 6 4 11 -1\n",
      "-1\n",
      "EOF\n"
     ]
    }
   ],
   "source": [
    "import tsplib95\n",
    "\n",
    "problem = tsplib95.load('TSP files/p01.tsp')\n",
    "\n",
    "print(problem.render())\n"
   ]
  },
  {
   "cell_type": "code",
   "execution_count": 3,
   "metadata": {},
   "outputs": [
    {
     "name": "stdout",
     "output_type": "stream",
     "text": [
      "explicit :  True\n",
      "full_matrix :  True\n",
      "weighted :  True\n",
      "special :  False\n",
      "complete :  True\n",
      "symmetric :  False\n",
      "depictable :  False\n"
     ]
    }
   ],
   "source": [
    "print('explicit : ', problem.is_explicit())\n",
    "print('full_matrix : ', problem.is_full_matrix())\n",
    "print('weighted : ', problem.is_weighted())\n",
    "print('special : ', problem.is_special())\n",
    "print('complete : ', problem.is_complete())\n",
    "print('symmetric : ', problem.is_symmetric())\n",
    "print('depictable : ', problem.is_depictable())"
   ]
  },
  {
   "cell_type": "code",
   "execution_count": 4,
   "metadata": {},
   "outputs": [
    {
     "name": "stdout",
     "output_type": "stream",
     "text": [
      "{'name': '15 cities', 'type': 'TSP', 'dimension': 15, 'node_coord_type': 'NO_COORDS', 'edge_weight_type': 'EXPLICIT', 'display_data_type': 'NO_DISPLAY', 'edge_weight_format': 'FULL_MATRIX', 'edge_weights': [[0, 29, 82, 46, 68, 52, 72, 42, 51, 55, 29, 74, 23, 72, 46], [29, 0, 55, 46, 42, 43, 43, 23, 23, 31, 41, 51, 11, 52, 21], [82, 55, 0, 68, 46, 55, 23, 43, 41, 29, 79, 21, 64, 31, 51], [46, 46, 68, 0, 82, 15, 72, 31, 62, 42, 21, 51, 51, 43, 64], [68, 42, 46, 82, 0, 74, 23, 52, 21, 46, 82, 58, 46, 65, 23], [52, 43, 55, 15, 74, 0, 61, 23, 55, 31, 33, 37, 51, 29, 59], [72, 43, 23, 72, 23, 61, 0, 42, 23, 31, 77, 37, 51, 46, 33], [42, 23, 43, 31, 52, 23, 42, 0, 33, 15, 37, 33, 33, 31, 37], [51, 23, 41, 62, 21, 55, 23, 33, 0, 29, 62, 46, 29, 51, 11], [55, 31, 29, 42, 46, 31, 31, 15, 29, 0, 51, 21, 41, 23, 37], [29, 41, 79, 21, 82, 33, 77, 37, 62, 51, 0, 65, 42, 59, 61], [74, 51, 21, 51, 58, 37, 37, 33, 46, 21, 65, 0, 61, 11, 55], [23, 11, 64, 51, 46, 51, 51, 33, 29, 41, 42, 61, 0, 62, 23], [72, 52, 31, 43, 65, 29, 46, 31, 51, 23, 59, 11, 62, 0, 59], [46, 21, 51, 64, 23, 59, 33, 37, 11, 37, 61, 55, 23, 59, 0]], 'tours': [[1, 13, 2, 15, 9, 5, 7, 3, 12, 14, 10, 8, 6, 4, 11]]}\n"
     ]
    }
   ],
   "source": [
    "print(problem.as_name_dict())"
   ]
  },
  {
   "cell_type": "code",
   "execution_count": 5,
   "metadata": {},
   "outputs": [
    {
     "data": {
      "text/plain": [
       "{'NAME': '15 cities',\n",
       " 'TYPE': 'TSP',\n",
       " 'DIMENSION': 15,\n",
       " 'NODE_COORD_TYPE': 'NO_COORDS',\n",
       " 'EDGE_WEIGHT_TYPE': 'EXPLICIT',\n",
       " 'DISPLAY_DATA_TYPE': 'NO_DISPLAY',\n",
       " 'EDGE_WEIGHT_FORMAT': 'FULL_MATRIX',\n",
       " 'EDGE_WEIGHT_SECTION': [[0,\n",
       "   29,\n",
       "   82,\n",
       "   46,\n",
       "   68,\n",
       "   52,\n",
       "   72,\n",
       "   42,\n",
       "   51,\n",
       "   55,\n",
       "   29,\n",
       "   74,\n",
       "   23,\n",
       "   72,\n",
       "   46],\n",
       "  [29, 0, 55, 46, 42, 43, 43, 23, 23, 31, 41, 51, 11, 52, 21],\n",
       "  [82, 55, 0, 68, 46, 55, 23, 43, 41, 29, 79, 21, 64, 31, 51],\n",
       "  [46, 46, 68, 0, 82, 15, 72, 31, 62, 42, 21, 51, 51, 43, 64],\n",
       "  [68, 42, 46, 82, 0, 74, 23, 52, 21, 46, 82, 58, 46, 65, 23],\n",
       "  [52, 43, 55, 15, 74, 0, 61, 23, 55, 31, 33, 37, 51, 29, 59],\n",
       "  [72, 43, 23, 72, 23, 61, 0, 42, 23, 31, 77, 37, 51, 46, 33],\n",
       "  [42, 23, 43, 31, 52, 23, 42, 0, 33, 15, 37, 33, 33, 31, 37],\n",
       "  [51, 23, 41, 62, 21, 55, 23, 33, 0, 29, 62, 46, 29, 51, 11],\n",
       "  [55, 31, 29, 42, 46, 31, 31, 15, 29, 0, 51, 21, 41, 23, 37],\n",
       "  [29, 41, 79, 21, 82, 33, 77, 37, 62, 51, 0, 65, 42, 59, 61],\n",
       "  [74, 51, 21, 51, 58, 37, 37, 33, 46, 21, 65, 0, 61, 11, 55],\n",
       "  [23, 11, 64, 51, 46, 51, 51, 33, 29, 41, 42, 61, 0, 62, 23],\n",
       "  [72, 52, 31, 43, 65, 29, 46, 31, 51, 23, 59, 11, 62, 0, 59],\n",
       "  [46, 21, 51, 64, 23, 59, 33, 37, 11, 37, 61, 55, 23, 59, 0]],\n",
       " 'TOUR_SECTION': [[1, 13, 2, 15, 9, 5, 7, 3, 12, 14, 10, 8, 6, 4, 11]]}"
      ]
     },
     "execution_count": 5,
     "metadata": {},
     "output_type": "execute_result"
    }
   ],
   "source": [
    "problem.as_keyword_dict()"
   ]
  },
  {
   "cell_type": "code",
   "execution_count": 6,
   "metadata": {},
   "outputs": [
    {
     "name": "stdout",
     "output_type": "stream",
     "text": [
      "<class 'range_iterator'>\n",
      "<class 'list'>\n",
      "[0, 1, 2, 3, 4, 5, 6, 7, 8, 9, 10, 11, 12, 13, 14, 0]\n",
      "0\n"
     ]
    }
   ],
   "source": [
    "list(problem.get_nodes())\n",
    "print(type(problem.get_nodes()))\n",
    "print(type(list(problem.get_nodes())))\n",
    "\n",
    "l = list(problem.get_nodes())\n",
    "l.append(l[0])\n",
    "print(l)\n",
    "print(list(problem.get_nodes())[0])"
   ]
  },
  {
   "cell_type": "code",
   "execution_count": 7,
   "metadata": {},
   "outputs": [
    {
     "name": "stdout",
     "output_type": "stream",
     "text": [
      "EXPLICIT\n",
      "225\n"
     ]
    },
    {
     "data": {
      "text/plain": [
       "[(0, 0),\n",
       " (0, 1),\n",
       " (0, 2),\n",
       " (0, 3),\n",
       " (0, 4),\n",
       " (0, 5),\n",
       " (0, 6),\n",
       " (0, 7),\n",
       " (0, 8),\n",
       " (0, 9),\n",
       " (0, 10),\n",
       " (0, 11),\n",
       " (0, 12),\n",
       " (0, 13),\n",
       " (0, 14),\n",
       " (1, 0),\n",
       " (1, 1),\n",
       " (1, 2),\n",
       " (1, 3),\n",
       " (1, 4),\n",
       " (1, 5),\n",
       " (1, 6),\n",
       " (1, 7),\n",
       " (1, 8),\n",
       " (1, 9),\n",
       " (1, 10),\n",
       " (1, 11),\n",
       " (1, 12),\n",
       " (1, 13),\n",
       " (1, 14),\n",
       " (2, 0),\n",
       " (2, 1),\n",
       " (2, 2),\n",
       " (2, 3),\n",
       " (2, 4),\n",
       " (2, 5),\n",
       " (2, 6),\n",
       " (2, 7),\n",
       " (2, 8),\n",
       " (2, 9),\n",
       " (2, 10),\n",
       " (2, 11),\n",
       " (2, 12),\n",
       " (2, 13),\n",
       " (2, 14),\n",
       " (3, 0),\n",
       " (3, 1),\n",
       " (3, 2),\n",
       " (3, 3),\n",
       " (3, 4),\n",
       " (3, 5),\n",
       " (3, 6),\n",
       " (3, 7),\n",
       " (3, 8),\n",
       " (3, 9),\n",
       " (3, 10),\n",
       " (3, 11),\n",
       " (3, 12),\n",
       " (3, 13),\n",
       " (3, 14),\n",
       " (4, 0),\n",
       " (4, 1),\n",
       " (4, 2),\n",
       " (4, 3),\n",
       " (4, 4),\n",
       " (4, 5),\n",
       " (4, 6),\n",
       " (4, 7),\n",
       " (4, 8),\n",
       " (4, 9),\n",
       " (4, 10),\n",
       " (4, 11),\n",
       " (4, 12),\n",
       " (4, 13),\n",
       " (4, 14),\n",
       " (5, 0),\n",
       " (5, 1),\n",
       " (5, 2),\n",
       " (5, 3),\n",
       " (5, 4),\n",
       " (5, 5),\n",
       " (5, 6),\n",
       " (5, 7),\n",
       " (5, 8),\n",
       " (5, 9),\n",
       " (5, 10),\n",
       " (5, 11),\n",
       " (5, 12),\n",
       " (5, 13),\n",
       " (5, 14),\n",
       " (6, 0),\n",
       " (6, 1),\n",
       " (6, 2),\n",
       " (6, 3),\n",
       " (6, 4),\n",
       " (6, 5),\n",
       " (6, 6),\n",
       " (6, 7),\n",
       " (6, 8),\n",
       " (6, 9),\n",
       " (6, 10),\n",
       " (6, 11),\n",
       " (6, 12),\n",
       " (6, 13),\n",
       " (6, 14),\n",
       " (7, 0),\n",
       " (7, 1),\n",
       " (7, 2),\n",
       " (7, 3),\n",
       " (7, 4),\n",
       " (7, 5),\n",
       " (7, 6),\n",
       " (7, 7),\n",
       " (7, 8),\n",
       " (7, 9),\n",
       " (7, 10),\n",
       " (7, 11),\n",
       " (7, 12),\n",
       " (7, 13),\n",
       " (7, 14),\n",
       " (8, 0),\n",
       " (8, 1),\n",
       " (8, 2),\n",
       " (8, 3),\n",
       " (8, 4),\n",
       " (8, 5),\n",
       " (8, 6),\n",
       " (8, 7),\n",
       " (8, 8),\n",
       " (8, 9),\n",
       " (8, 10),\n",
       " (8, 11),\n",
       " (8, 12),\n",
       " (8, 13),\n",
       " (8, 14),\n",
       " (9, 0),\n",
       " (9, 1),\n",
       " (9, 2),\n",
       " (9, 3),\n",
       " (9, 4),\n",
       " (9, 5),\n",
       " (9, 6),\n",
       " (9, 7),\n",
       " (9, 8),\n",
       " (9, 9),\n",
       " (9, 10),\n",
       " (9, 11),\n",
       " (9, 12),\n",
       " (9, 13),\n",
       " (9, 14),\n",
       " (10, 0),\n",
       " (10, 1),\n",
       " (10, 2),\n",
       " (10, 3),\n",
       " (10, 4),\n",
       " (10, 5),\n",
       " (10, 6),\n",
       " (10, 7),\n",
       " (10, 8),\n",
       " (10, 9),\n",
       " (10, 10),\n",
       " (10, 11),\n",
       " (10, 12),\n",
       " (10, 13),\n",
       " (10, 14),\n",
       " (11, 0),\n",
       " (11, 1),\n",
       " (11, 2),\n",
       " (11, 3),\n",
       " (11, 4),\n",
       " (11, 5),\n",
       " (11, 6),\n",
       " (11, 7),\n",
       " (11, 8),\n",
       " (11, 9),\n",
       " (11, 10),\n",
       " (11, 11),\n",
       " (11, 12),\n",
       " (11, 13),\n",
       " (11, 14),\n",
       " (12, 0),\n",
       " (12, 1),\n",
       " (12, 2),\n",
       " (12, 3),\n",
       " (12, 4),\n",
       " (12, 5),\n",
       " (12, 6),\n",
       " (12, 7),\n",
       " (12, 8),\n",
       " (12, 9),\n",
       " (12, 10),\n",
       " (12, 11),\n",
       " (12, 12),\n",
       " (12, 13),\n",
       " (12, 14),\n",
       " (13, 0),\n",
       " (13, 1),\n",
       " (13, 2),\n",
       " (13, 3),\n",
       " (13, 4),\n",
       " (13, 5),\n",
       " (13, 6),\n",
       " (13, 7),\n",
       " (13, 8),\n",
       " (13, 9),\n",
       " (13, 10),\n",
       " (13, 11),\n",
       " (13, 12),\n",
       " (13, 13),\n",
       " (13, 14),\n",
       " (14, 0),\n",
       " (14, 1),\n",
       " (14, 2),\n",
       " (14, 3),\n",
       " (14, 4),\n",
       " (14, 5),\n",
       " (14, 6),\n",
       " (14, 7),\n",
       " (14, 8),\n",
       " (14, 9),\n",
       " (14, 10),\n",
       " (14, 11),\n",
       " (14, 12),\n",
       " (14, 13),\n",
       " (14, 14)]"
      ]
     },
     "execution_count": 7,
     "metadata": {},
     "output_type": "execute_result"
    }
   ],
   "source": [
    "print(problem.edge_weight_type)\n",
    "print(len(list(problem.get_edges())))\n",
    "\n",
    "list(problem.get_edges())"
   ]
  },
  {
   "cell_type": "code",
   "execution_count": 15,
   "metadata": {},
   "outputs": [
    {
     "name": "stdout",
     "output_type": "stream",
     "text": [
      "[[0, 29, 82, 46, 68, 52, 72, 42, 51, 55, 29, 74, 23, 72, 46], [29, 0, 55, 46, 42, 43, 43, 23, 23, 31, 41, 51, 11, 52, 21], [82, 55, 0, 68, 46, 55, 23, 43, 41, 29, 79, 21, 64, 31, 51], [46, 46, 68, 0, 82, 15, 72, 31, 62, 42, 21, 51, 51, 43, 64], [68, 42, 46, 82, 0, 74, 23, 52, 21, 46, 82, 58, 46, 65, 23], [52, 43, 55, 15, 74, 0, 61, 23, 55, 31, 33, 37, 51, 29, 59], [72, 43, 23, 72, 23, 61, 0, 42, 23, 31, 77, 37, 51, 46, 33], [42, 23, 43, 31, 52, 23, 42, 0, 33, 15, 37, 33, 33, 31, 37], [51, 23, 41, 62, 21, 55, 23, 33, 0, 29, 62, 46, 29, 51, 11], [55, 31, 29, 42, 46, 31, 31, 15, 29, 0, 51, 21, 41, 23, 37], [29, 41, 79, 21, 82, 33, 77, 37, 62, 51, 0, 65, 42, 59, 61], [74, 51, 21, 51, 58, 37, 37, 33, 46, 21, 65, 0, 61, 11, 55], [23, 11, 64, 51, 46, 51, 51, 33, 29, 41, 42, 61, 0, 62, 23], [72, 52, 31, 43, 65, 29, 46, 31, 51, 23, 59, 11, 62, 0, 59], [46, 21, 51, 64, 23, 59, 33, 37, 11, 37, 61, 55, 23, 59, 0]]\n",
      "<class 'list'>\n",
      "<class 'list'>\n",
      "15\n",
      "29\n"
     ]
    }
   ],
   "source": [
    "print(problem.edge_weights)\n",
    "print(type(problem.edge_weights))\n",
    "print(type(problem.edge_weights[0]))\n",
    "print(len(problem.edge_weights))\n",
    "print(problem.edge_weights[0][1])"
   ]
  },
  {
   "cell_type": "code",
   "execution_count": 9,
   "metadata": {},
   "outputs": [
    {
     "name": "stdout",
     "output_type": "stream",
     "text": [
      "(14, 13)\n",
      "(14, 14)\n"
     ]
    }
   ],
   "source": [
    "print(list(problem.get_edges())[223])\n",
    "print(list(problem.get_edges())[224])"
   ]
  },
  {
   "cell_type": "code",
   "execution_count": 10,
   "metadata": {},
   "outputs": [
    {
     "name": "stdout",
     "output_type": "stream",
     "text": [
      "The distance from node 3 to node 8 is 62.\n"
     ]
    }
   ],
   "source": [
    "#The distance between node 3 and node 8 is 62.\n",
    "edge = 3, 8\n",
    "weight = problem.get_weight(*edge)\n",
    "print(f'The distance from node {edge[0]} to node {edge[1]} is {weight}.')\n"
   ]
  },
  {
   "cell_type": "code",
   "execution_count": 11,
   "metadata": {},
   "outputs": [
    {
     "name": "stdout",
     "output_type": "stream",
     "text": [
      "817\n"
     ]
    }
   ],
   "source": [
    "weight = problem.trace_canonical_tour()\n",
    "print(weight)"
   ]
  },
  {
   "cell_type": "code",
   "execution_count": 17,
   "metadata": {},
   "outputs": [
    {
     "name": "stdout",
     "output_type": "stream",
     "text": [
      "<class 'list'>\n"
     ]
    }
   ],
   "source": [
    "population = []\n",
    "print(type(population))"
   ]
  }
 ],
 "metadata": {
  "kernelspec": {
   "display_name": "Python 3",
   "language": "python",
   "name": "python3"
  },
  "language_info": {
   "codemirror_mode": {
    "name": "ipython",
    "version": 3
   },
   "file_extension": ".py",
   "mimetype": "text/x-python",
   "name": "python",
   "nbconvert_exporter": "python",
   "pygments_lexer": "ipython3",
   "version": "3.10.10"
  }
 },
 "nbformat": 4,
 "nbformat_minor": 2
}
