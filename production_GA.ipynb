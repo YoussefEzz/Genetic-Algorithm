{
 "cells": [
  {
   "cell_type": "code",
   "execution_count": 41,
   "metadata": {},
   "outputs": [
    {
     "name": "stdout",
     "output_type": "stream",
     "text": [
      "[[0 3 4 2 7]\n",
      " [3 0 4 6 3]\n",
      " [4 4 0 5 8]\n",
      " [2 6 5 0 6]\n",
      " [7 3 8 6 0]]\n",
      "cities :  [0, 1, 2, 3, 4]\n",
      "[[0, 3, 4, 2, 7], [3, 0, 4, 6, 3], [4, 4, 0, 5, 8], [2, 6, 5, 0, 6], [7, 3, 8, 6, 0]]\n",
      "The chromosome of the highest fitness is: [0, 3, 4, 1, 2, 0]\n",
      "it's minimal cost is: 19\n",
      "[0, 3, 4, 1, 2, 0]\n"
     ]
    }
   ],
   "source": [
    "import tsplib95\n",
    "import GA\n",
    "import pandas as pd\n",
    "\n",
    "# https://people.sc.fsu.edu/~jburkardt/datasets/tsp/five_d.txt\n",
    "# is a set of 5 cities. The minimal tour has length 19.\n",
    "\n",
    "# Read the distances matrix from a txt file\n",
    "df = pd.read_csv('TSP files/five_d.txt' , delimiter='\\s+', header=None, dtype=int)\n",
    "print(df.values)\n",
    "\n",
    "cities_GA1 = list(range(5))\n",
    "print(\"cities : \" , cities_GA1)\n",
    "\n",
    "# Convert the matrix to a list of lists\n",
    "distances1 = df.values.tolist()\n",
    "print(distances1)\n",
    "\n",
    "GA_1 = GA.GeneticAlgorithm(cities_GA1, distances1, 0, 100, 100)\n",
    "\n",
    "max_index = GA_1.run()\n",
    "\n",
    "print(GA_1.population[max_index])"
   ]
  },
  {
   "cell_type": "code",
   "execution_count": 42,
   "metadata": {},
   "outputs": [
    {
     "name": "stdout",
     "output_type": "stream",
     "text": [
      "cities :  [0, 1, 2, 3, 4, 5, 6, 7, 8, 9, 10, 11, 12, 13, 14]\n",
      "The chromosome of the highest fitness is: [0, 12, 6, 9, 11, 2, 13, 4, 8, 14, 1, 7, 5, 3, 10, 0]\n",
      "it's minimal cost is: 407\n",
      "[0, 12, 6, 9, 11, 2, 13, 4, 8, 14, 1, 7, 5, 3, 10, 0]\n"
     ]
    }
   ],
   "source": [
    "import tsplib95\n",
    "import GA\n",
    "\n",
    "# https://people.sc.fsu.edu/~jburkardt/datasets/tsp/p01.tsp\n",
    "# P01 is a set of 15 cities. It is NOT from TSPLIB. The minimal cost is 291.\n",
    "problem2 = tsplib95.load('TSP files/p01.tsp')\n",
    "\n",
    "cities_GA2 = list(problem2.get_nodes())\n",
    "print(\"cities : \" , cities_GA2)\n",
    "\n",
    "distances2 = problem2.edge_weights\n",
    "#print(distances2)\n",
    "\n",
    "GA_2 = GA.GeneticAlgorithm(cities_GA2, distances2, 0, 100, 100)\n",
    "\n",
    "max_index = GA_2.run()\n",
    "\n",
    "print(GA_2.population[max_index])"
   ]
  },
  {
   "cell_type": "code",
   "execution_count": 43,
   "metadata": {},
   "outputs": [
    {
     "name": "stdout",
     "output_type": "stream",
     "text": [
      "[[ 0  8 39 ... 29  3  5]\n",
      " [ 8  0 45 ... 33 11 12]\n",
      " [39 45  0 ... 30 41 55]\n",
      " ...\n",
      " [29 33 30 ...  0 25 32]\n",
      " [ 3 11 41 ... 25  0  6]\n",
      " [ 5 12 55 ... 32  6  0]]\n",
      "cities :  [0, 1, 2, 3, 4, 5, 6, 7, 8, 9, 10, 11, 12, 13, 14, 15, 16, 17, 18, 19, 20, 21, 22, 23, 24, 25, 26, 27, 28, 29, 30, 31, 32, 33, 34, 35, 36, 37, 38, 39, 40, 41]\n",
      "The chromosome of the highest fitness is: [0, 9, 1, 30, 41, 36, 27, 5, 6, 40, 39, 37, 35, 34, 31, 32, 16, 28, 20, 22, 19, 18, 17, 15, 14, 13, 11, 29, 25, 12, 23, 10, 26, 24, 21, 8, 2, 7, 3, 4, 33, 38, 0]\n",
      "it's minimal cost is: 1772\n",
      "[0, 9, 1, 30, 41, 36, 27, 5, 6, 40, 39, 37, 35, 34, 31, 32, 16, 28, 20, 22, 19, 18, 17, 15, 14, 13, 11, 29, 25, 12, 23, 10, 26, 24, 21, 8, 2, 7, 3, 4, 33, 38, 0]\n"
     ]
    }
   ],
   "source": [
    "import tsplib95\n",
    "import GA\n",
    "\n",
    "# https://people.sc.fsu.edu/~jburkardt/datasets/tsp/dantzig42_d.txt\n",
    "# DANTZIG42 is a set of 42 cities, from TSPLIB. The minimal tour has length 699.\n",
    "\n",
    "# Read the distances matrix from a txt file\n",
    "df = pd.read_csv('TSP files/dantzig42_d.txt' , delimiter='\\s+', header=None, dtype=int)\n",
    "print(df.values)\n",
    "\n",
    "cities_GA3 = list(range(42))\n",
    "print(\"cities : \" , cities_GA3)\n",
    "\n",
    "# Convert the matrix to a list of lists\n",
    "distances3 = df.values.tolist()\n",
    "#print(distances3)\n",
    "\n",
    "GA_3 = GA.GeneticAlgorithm(cities_GA3, distances3, 0, 100, 100)\n",
    "\n",
    "max_index = GA_3.run()\n",
    "\n",
    "print(GA_3.population[max_index])"
   ]
  }
 ],
 "metadata": {
  "kernelspec": {
   "display_name": "Python 3",
   "language": "python",
   "name": "python3"
  },
  "language_info": {
   "codemirror_mode": {
    "name": "ipython",
    "version": 3
   },
   "file_extension": ".py",
   "mimetype": "text/x-python",
   "name": "python",
   "nbconvert_exporter": "python",
   "pygments_lexer": "ipython3",
   "version": "3.10.10"
  }
 },
 "nbformat": 4,
 "nbformat_minor": 2
}
