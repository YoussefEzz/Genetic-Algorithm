{
 "cells": [
  {
   "cell_type": "code",
   "execution_count": 1,
   "metadata": {},
   "outputs": [
    {
     "name": "stdout",
     "output_type": "stream",
     "text": [
      "[0, 1, 2, 3, 4, 5, 6, 7, 8, 9, 10, 11, 12, 13, 14]\n",
      "<class 'list'>\n"
     ]
    }
   ],
   "source": [
    "import tsplib95\n",
    "import GA\n",
    "import numpy as np\n",
    "\n",
    "problem = tsplib95.load('TSP files/p01.tsp')\n",
    "#print(problem.render())\n",
    "\n",
    "cities = list(problem.get_nodes())\n",
    "print(cities)\n",
    "print(type(cities))\n",
    "\n"
   ]
  },
  {
   "cell_type": "code",
   "execution_count": 2,
   "metadata": {},
   "outputs": [
    {
     "name": "stdout",
     "output_type": "stream",
     "text": [
      "distances\n",
      "46\n",
      "[[0, 29, 82, 46, 68, 52, 72, 42, 51, 55, 29, 74, 23, 72, 46], [29, 0, 55, 46, 42, 43, 43, 23, 23, 31, 41, 51, 11, 52, 21], [82, 55, 0, 68, 46, 55, 23, 43, 41, 29, 79, 21, 64, 31, 51], [46, 46, 68, 0, 82, 15, 72, 31, 62, 42, 21, 51, 51, 43, 64], [68, 42, 46, 82, 0, 74, 23, 52, 21, 46, 82, 58, 46, 65, 23], [52, 43, 55, 15, 74, 0, 61, 23, 55, 31, 33, 37, 51, 29, 59], [72, 43, 23, 72, 23, 61, 0, 42, 23, 31, 77, 37, 51, 46, 33], [42, 23, 43, 31, 52, 23, 42, 0, 33, 15, 37, 33, 33, 31, 37], [51, 23, 41, 62, 21, 55, 23, 33, 0, 29, 62, 46, 29, 51, 11], [55, 31, 29, 42, 46, 31, 31, 15, 29, 0, 51, 21, 41, 23, 37], [29, 41, 79, 21, 82, 33, 77, 37, 62, 51, 0, 65, 42, 59, 61], [74, 51, 21, 51, 58, 37, 37, 33, 46, 21, 65, 0, 61, 11, 55], [23, 11, 64, 51, 46, 51, 51, 33, 29, 41, 42, 61, 0, 62, 23], [72, 52, 31, 43, 65, 29, 46, 31, 51, 23, 59, 11, 62, 0, 59], [46, 21, 51, 64, 23, 59, 33, 37, 11, 37, 61, 55, 23, 59, 0]]\n",
      "<class 'list'>\n"
     ]
    }
   ],
   "source": [
    "distances = problem.edge_weights\n",
    "print(\"distances\")\n",
    "print(distances[0][14])\n",
    "print(distances)\n",
    "print(type(distances))\n",
    "\n"
   ]
  },
  {
   "cell_type": "code",
   "execution_count": 3,
   "metadata": {},
   "outputs": [
    {
     "name": "stdout",
     "output_type": "stream",
     "text": [
      "[[0, 13, 2, 1, 12, 14, 7, 8, 9, 4, 5, 3, 11, 10, 6, 0], [0, 8, 10, 12, 9, 6, 7, 5, 11, 4, 1, 13, 3, 14, 2, 0], [0, 14, 11, 12, 7, 3, 6, 9, 1, 8, 10, 2, 13, 4, 5, 0], [0, 6, 5, 2, 3, 13, 4, 10, 9, 12, 11, 1, 14, 8, 7, 0], [0, 5, 11, 12, 14, 10, 4, 3, 8, 6, 1, 9, 2, 7, 13, 0], [0, 9, 8, 6, 14, 12, 2, 1, 5, 10, 11, 3, 13, 7, 4, 0], [0, 14, 2, 5, 4, 10, 11, 13, 7, 3, 1, 8, 12, 9, 6, 0], [0, 1, 12, 13, 11, 14, 9, 3, 7, 5, 8, 4, 10, 2, 6, 0], [0, 9, 13, 11, 8, 6, 1, 10, 5, 4, 14, 2, 7, 3, 12, 0], [0, 8, 12, 9, 6, 10, 13, 4, 5, 7, 2, 3, 14, 1, 11, 0]]\n",
      "16\n"
     ]
    }
   ],
   "source": [
    "GA_1 = GA.GeneticAlgorithm(cities, distances, 0, 10, 1)\n",
    "GA_1.initialize_population()\n",
    "print(GA_1.population)\n",
    "print(len(GA_1.population[0]))\n",
    "\n",
    "#fitness = GA_1.fitness(GA_1.population[0])\n",
    "#print(fitness)\n",
    "\n"
   ]
  },
  {
   "cell_type": "code",
   "execution_count": 4,
   "metadata": {},
   "outputs": [
    {
     "name": "stdout",
     "output_type": "stream",
     "text": [
      "population :  [[0, 13, 2, 1, 12, 14, 7, 8, 9, 4, 5, 3, 11, 10, 6, 0], [0, 8, 10, 12, 9, 6, 7, 5, 11, 4, 1, 13, 3, 14, 2, 0], [0, 14, 11, 12, 7, 3, 6, 9, 1, 8, 10, 2, 13, 4, 5, 0], [0, 6, 5, 2, 3, 13, 4, 10, 9, 12, 11, 1, 14, 8, 7, 0], [0, 5, 11, 12, 14, 10, 4, 3, 8, 6, 1, 9, 2, 7, 13, 0], [0, 9, 8, 6, 14, 12, 2, 1, 5, 10, 11, 3, 13, 7, 4, 0], [0, 14, 2, 5, 4, 10, 11, 13, 7, 3, 1, 8, 12, 9, 6, 0], [0, 1, 12, 13, 11, 14, 9, 3, 7, 5, 8, 4, 10, 2, 6, 0], [0, 9, 13, 11, 8, 6, 1, 10, 5, 4, 14, 2, 7, 3, 12, 0], [0, 8, 12, 9, 6, 10, 13, 4, 5, 7, 2, 3, 14, 1, 11, 0]]\n",
      "population fitness :  [0.1447178002894356, 0.13869625520110956, 0.13404825737265416, 0.13210039630118892, 0.1366120218579235, 0.1497005988023952, 0.14534883720930233, 0.1579778830963665, 0.17513134851138354, 0.1297016861219196]\n"
     ]
    }
   ],
   "source": [
    "# test rank selection numpy using random.choices\n",
    "import numpy as np\n",
    "\n",
    "print(\"population : \", GA_1.population)\n",
    "\n",
    "GA_1.evaluate_fitness()\n",
    "print(\"population fitness : \", GA_1.population_fitness)\n",
    "\n",
    "\n",
    "\n",
    "# GA_1.evaluate_rank()\n",
    "# print(\"population rank : \", GA_1.population_rank)\n",
    "\n",
    "# chromosome_indices = [i for i in range(len(GA_1.population))]\n",
    "# print(\"chromosome indices: \", chromosome_indices)\n",
    "\n",
    "# rank_weights = [element / sum(GA_1.population_rank) for element in GA_1.population_rank]\n",
    "# print(\"rank weights: \", rank_weights)\n",
    "\n",
    "# # select 2 chromosomes from population based on rank selection\n",
    "# selected_chromosomes = np.random.choice(len(GA_1.population), 2, replace=False, p=rank_weights)\n",
    "# print(\"selected chromosomes :\", selected_chromosomes)\n",
    "\n",
    "# selected_chromosome1 = selected_chromosomes[0]\n",
    "# print(\"chromosome 1 index :\", selected_chromosome1)\n",
    "\n",
    "# selected_chromosome2 = selected_chromosomes[1]\n",
    "# print(\"chromosome 2 index :\", selected_chromosome2)\n",
    "\n",
    "\n",
    "\n"
   ]
  },
  {
   "cell_type": "code",
   "execution_count": 5,
   "metadata": {},
   "outputs": [
    {
     "name": "stdout",
     "output_type": "stream",
     "text": [
      "[7, 8]\n",
      "[0.1447178002894356, 0.13869625520110956, 0.13404825737265416, 0.13210039630118892, 0.1366120218579235, 0.1497005988023952, 0.14534883720930233, 0.1579778830963665, 0.17513134851138354, 0.1297016861219196]\n"
     ]
    }
   ],
   "source": [
    "# test tournament selection using random.choices\n",
    "\n",
    "crossover_parents = GA_1.tournament_selection()\n",
    "print(crossover_parents)\n",
    "print(GA_1.population_fitness)"
   ]
  },
  {
   "cell_type": "code",
   "execution_count": 6,
   "metadata": {},
   "outputs": [
    {
     "name": "stdout",
     "output_type": "stream",
     "text": [
      "[[0, 1, 12, 13, 11, 14, 9, 3, 5, 4, 14, 2, 7, 3, 12, 0], [0, 9, 13, 11, 8, 6, 1, 10, 7, 5, 8, 4, 10, 2, 6, 0]]\n",
      "[0, 1, 12, 13, 11, 14, 9, 3, 5, 4, 14, 2, 7, 3, 12, 0]\n"
     ]
    }
   ],
   "source": [
    "# test onepoint crossover not used in GA algorithm for travel salesman problem\n",
    "onepoint_crossover_childs = GA_1.onepoint_crossover(crossover_parents[0], crossover_parents[1])\n",
    "print(onepoint_crossover_childs)\n",
    "print(onepoint_crossover_childs[0])"
   ]
  },
  {
   "cell_type": "code",
   "execution_count": 7,
   "metadata": {},
   "outputs": [
    {
     "name": "stdout",
     "output_type": "stream",
     "text": [
      "([0, 1, 13, 8, 11, 14, 9, 3, 7, 4, 6, 2, 5, 10, 12, 0], [0, 9, 12, 13, 8, 6, 1, 10, 5, 7, 11, 4, 3, 2, 14, 0])\n",
      "[0, 1, 13, 8, 11, 14, 9, 3, 7, 4, 6, 2, 5, 10, 12, 0]\n"
     ]
    }
   ],
   "source": [
    "# partially-mapped crossover\n",
    "pmx_crossover_childs = GA_1.partially_mapped_crossover(crossover_parents[0], crossover_parents[1])\n",
    "print(pmx_crossover_childs)\n",
    "print(pmx_crossover_childs[0])\n"
   ]
  },
  {
   "cell_type": "code",
   "execution_count": 8,
   "metadata": {},
   "outputs": [
    {
     "name": "stdout",
     "output_type": "stream",
     "text": [
      "first chromosome mutation : \n",
      "[0, 1, 13, 8, 11, 14, 9, 3, 7, 4, 6, 2, 5, 10, 12, 0]\n",
      "[0, 9, 13, 8, 11, 14, 1, 3, 7, 4, 6, 2, 5, 10, 12, 0]\n",
      "second chromosome mutation : \n",
      "[0, 9, 12, 13, 8, 6, 1, 10, 5, 7, 11, 4, 3, 2, 14, 0]\n",
      "[0, 9, 12, 10, 8, 6, 1, 13, 5, 7, 11, 4, 3, 2, 14, 0]\n"
     ]
    }
   ],
   "source": [
    "# test swap mutation\n",
    "print(\"first chromosome mutation : \")\n",
    "print(pmx_crossover_childs[0])\n",
    "mutated_chromosome = GA_1.swap_mutation(pmx_crossover_childs[0])\n",
    "print(mutated_chromosome)\n",
    "\n",
    "print(\"second chromosome mutation : \")\n",
    "print(pmx_crossover_childs[1])\n",
    "mutated_chromosome = GA_1.swap_mutation(pmx_crossover_childs[1])\n",
    "print(mutated_chromosome)\n"
   ]
  },
  {
   "cell_type": "code",
   "execution_count": null,
   "metadata": {},
   "outputs": [],
   "source": [
    "# test GA run function\n",
    "GA_2 = GA.GeneticAlgorithm(cities, distances, 0, 10, 1)\n",
    "GA_2.run()"
   ]
  }
 ],
 "metadata": {
  "kernelspec": {
   "display_name": "Python 3",
   "language": "python",
   "name": "python3"
  },
  "language_info": {
   "codemirror_mode": {
    "name": "ipython",
    "version": 3
   },
   "file_extension": ".py",
   "mimetype": "text/x-python",
   "name": "python",
   "nbconvert_exporter": "python",
   "pygments_lexer": "ipython3",
   "version": "3.10.10"
  }
 },
 "nbformat": 4,
 "nbformat_minor": 2
}
