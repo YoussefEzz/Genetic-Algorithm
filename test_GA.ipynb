{
 "cells": [
  {
   "cell_type": "code",
   "execution_count": 2,
   "metadata": {},
   "outputs": [
    {
     "name": "stdout",
     "output_type": "stream",
     "text": [
      "[0, 1, 2, 3, 4, 5, 6, 7, 8, 9, 10, 11, 12, 13, 14]\n",
      "<class 'list'>\n"
     ]
    }
   ],
   "source": [
    "import tsplib95\n",
    "import GA\n",
    "import numpy as np\n",
    "\n",
    "problem = tsplib95.load('TSP files/p01.tsp')\n",
    "#print(problem.render())\n",
    "\n",
    "cities = list(problem.get_nodes())\n",
    "print(cities)\n",
    "print(type(cities))\n",
    "\n"
   ]
  },
  {
   "cell_type": "code",
   "execution_count": 3,
   "metadata": {},
   "outputs": [
    {
     "name": "stdout",
     "output_type": "stream",
     "text": [
      "distances\n",
      "46\n",
      "[[0, 29, 82, 46, 68, 52, 72, 42, 51, 55, 29, 74, 23, 72, 46], [29, 0, 55, 46, 42, 43, 43, 23, 23, 31, 41, 51, 11, 52, 21], [82, 55, 0, 68, 46, 55, 23, 43, 41, 29, 79, 21, 64, 31, 51], [46, 46, 68, 0, 82, 15, 72, 31, 62, 42, 21, 51, 51, 43, 64], [68, 42, 46, 82, 0, 74, 23, 52, 21, 46, 82, 58, 46, 65, 23], [52, 43, 55, 15, 74, 0, 61, 23, 55, 31, 33, 37, 51, 29, 59], [72, 43, 23, 72, 23, 61, 0, 42, 23, 31, 77, 37, 51, 46, 33], [42, 23, 43, 31, 52, 23, 42, 0, 33, 15, 37, 33, 33, 31, 37], [51, 23, 41, 62, 21, 55, 23, 33, 0, 29, 62, 46, 29, 51, 11], [55, 31, 29, 42, 46, 31, 31, 15, 29, 0, 51, 21, 41, 23, 37], [29, 41, 79, 21, 82, 33, 77, 37, 62, 51, 0, 65, 42, 59, 61], [74, 51, 21, 51, 58, 37, 37, 33, 46, 21, 65, 0, 61, 11, 55], [23, 11, 64, 51, 46, 51, 51, 33, 29, 41, 42, 61, 0, 62, 23], [72, 52, 31, 43, 65, 29, 46, 31, 51, 23, 59, 11, 62, 0, 59], [46, 21, 51, 64, 23, 59, 33, 37, 11, 37, 61, 55, 23, 59, 0]]\n",
      "<class 'list'>\n"
     ]
    }
   ],
   "source": [
    "distances = problem.edge_weights\n",
    "print(\"distances\")\n",
    "print(distances[0][14])\n",
    "print(distances)\n",
    "print(type(distances))\n",
    "\n"
   ]
  },
  {
   "cell_type": "code",
   "execution_count": 4,
   "metadata": {},
   "outputs": [
    {
     "name": "stdout",
     "output_type": "stream",
     "text": [
      "[[0, 2, 3, 5, 11, 7, 14, 8, 4, 1, 10, 13, 9, 12, 6, 0], [0, 4, 11, 2, 7, 6, 12, 13, 3, 1, 14, 10, 5, 9, 8, 0], [0, 12, 6, 3, 7, 1, 13, 14, 2, 11, 8, 9, 5, 4, 10, 0], [0, 7, 6, 11, 10, 1, 4, 12, 8, 13, 14, 2, 9, 5, 3, 0], [0, 9, 13, 4, 2, 5, 14, 7, 12, 1, 10, 11, 8, 6, 3, 0], [0, 2, 1, 11, 7, 3, 5, 4, 13, 6, 8, 9, 14, 10, 12, 0], [0, 14, 5, 3, 12, 2, 10, 4, 11, 6, 1, 7, 8, 13, 9, 0], [0, 4, 3, 9, 2, 10, 14, 7, 13, 12, 5, 6, 11, 1, 8, 0], [0, 1, 3, 9, 12, 4, 10, 11, 5, 14, 2, 6, 13, 8, 7, 0], [0, 2, 12, 8, 14, 5, 4, 10, 3, 1, 9, 7, 13, 6, 11, 0]]\n",
      "16\n"
     ]
    }
   ],
   "source": [
    "GA_1 = GA.GeneticAlgorithm(cities, distances, 0, 10, 1)\n",
    "GA_1.initialize_population()\n",
    "print(GA_1.population)\n",
    "print(len(GA_1.population[0]))\n",
    "\n",
    "#fitness = GA_1.fitness(GA_1.population[0])\n",
    "#print(fitness)\n",
    "\n"
   ]
  },
  {
   "cell_type": "code",
   "execution_count": 5,
   "metadata": {},
   "outputs": [
    {
     "name": "stdout",
     "output_type": "stream",
     "text": [
      "population :  [[0, 2, 3, 5, 11, 7, 14, 8, 4, 1, 10, 13, 9, 12, 6, 0], [0, 4, 11, 2, 7, 6, 12, 13, 3, 1, 14, 10, 5, 9, 8, 0], [0, 12, 6, 3, 7, 1, 13, 14, 2, 11, 8, 9, 5, 4, 10, 0], [0, 7, 6, 11, 10, 1, 4, 12, 8, 13, 14, 2, 9, 5, 3, 0], [0, 9, 13, 4, 2, 5, 14, 7, 12, 1, 10, 11, 8, 6, 3, 0], [0, 2, 1, 11, 7, 3, 5, 4, 13, 6, 8, 9, 14, 10, 12, 0], [0, 14, 5, 3, 12, 2, 10, 4, 11, 6, 1, 7, 8, 13, 9, 0], [0, 4, 3, 9, 2, 10, 14, 7, 13, 12, 5, 6, 11, 1, 8, 0], [0, 1, 3, 9, 12, 4, 10, 11, 5, 14, 2, 6, 13, 8, 7, 0], [0, 2, 12, 8, 14, 5, 4, 10, 3, 1, 9, 7, 13, 6, 11, 0]]\n",
      "population fitness :  [0.1579778830963665, 0.15151515151515152, 0.14836795252225518, 0.1597444089456869, 0.14771048744460857, 0.14992503748125938, 0.13908205841446453, 0.13071895424836602, 0.1443001443001443, 0.14245014245014245]\n"
     ]
    }
   ],
   "source": [
    "# test rank selection numpy using random.choices\n",
    "import numpy as np\n",
    "\n",
    "print(\"population : \", GA_1.population)\n",
    "\n",
    "GA_1.evaluate_fitness()\n",
    "print(\"population fitness : \", GA_1.population_fitness)\n",
    "\n",
    "\n",
    "\n",
    "# GA_1.evaluate_rank()\n",
    "# print(\"population rank : \", GA_1.population_rank)\n",
    "\n",
    "# chromosome_indices = [i for i in range(len(GA_1.population))]\n",
    "# print(\"chromosome indices: \", chromosome_indices)\n",
    "\n",
    "# rank_weights = [element / sum(GA_1.population_rank) for element in GA_1.population_rank]\n",
    "# print(\"rank weights: \", rank_weights)\n",
    "\n",
    "# # select 2 chromosomes from population based on rank selection\n",
    "# selected_chromosomes = np.random.choice(len(GA_1.population), 2, replace=False, p=rank_weights)\n",
    "# print(\"selected chromosomes :\", selected_chromosomes)\n",
    "\n",
    "# selected_chromosome1 = selected_chromosomes[0]\n",
    "# print(\"chromosome 1 index :\", selected_chromosome1)\n",
    "\n",
    "# selected_chromosome2 = selected_chromosomes[1]\n",
    "# print(\"chromosome 2 index :\", selected_chromosome2)\n",
    "\n",
    "\n",
    "\n"
   ]
  },
  {
   "cell_type": "code",
   "execution_count": 6,
   "metadata": {},
   "outputs": [
    {
     "name": "stdout",
     "output_type": "stream",
     "text": [
      "[0, 1]\n",
      "[0.1579778830963665, 0.15151515151515152, 0.14836795252225518, 0.1597444089456869, 0.14771048744460857, 0.14992503748125938, 0.13908205841446453, 0.13071895424836602, 0.1443001443001443, 0.14245014245014245]\n"
     ]
    }
   ],
   "source": [
    "# test tournament selection using random.choices\n",
    "\n",
    "crossover_parents = GA_1.tournament_selection()\n",
    "print(crossover_parents)\n",
    "print(GA_1.population_fitness)"
   ]
  },
  {
   "cell_type": "code",
   "execution_count": 8,
   "metadata": {},
   "outputs": [
    {
     "data": {
      "text/plain": [
       "[[0, 2, 3, 2, 7, 6, 12, 13, 3, 1, 14, 10, 5, 9, 8, 0],\n",
       " [0, 4, 11, 5, 11, 7, 14, 8, 4, 1, 10, 13, 9, 12, 6, 0]]"
      ]
     },
     "execution_count": 8,
     "metadata": {},
     "output_type": "execute_result"
    }
   ],
   "source": [
    "GA_1.onepoint_crossover(crossover_parents[0], crossover_parents[1])\n"
   ]
  }
 ],
 "metadata": {
  "kernelspec": {
   "display_name": "Python 3",
   "language": "python",
   "name": "python3"
  },
  "language_info": {
   "codemirror_mode": {
    "name": "ipython",
    "version": 3
   },
   "file_extension": ".py",
   "mimetype": "text/x-python",
   "name": "python",
   "nbconvert_exporter": "python",
   "pygments_lexer": "ipython3",
   "version": "3.10.10"
  }
 },
 "nbformat": 4,
 "nbformat_minor": 2
}
