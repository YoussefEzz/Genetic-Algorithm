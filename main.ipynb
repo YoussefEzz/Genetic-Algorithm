{
 "cells": [
  {
   "cell_type": "code",
   "execution_count": 22,
   "metadata": {},
   "outputs": [
    {
     "name": "stdout",
     "output_type": "stream",
     "text": [
      "[0, 1, 2, 3, 4, 5, 6, 7, 8, 9, 10, 11, 12, 13, 14]\n",
      "<class 'list'>\n"
     ]
    }
   ],
   "source": [
    "import tsplib95\n",
    "import GA\n",
    "\n",
    "problem = tsplib95.load('TSP files/p01.tsp')\n",
    "#print(problem.render())\n",
    "\n",
    "cities = list(problem.get_nodes())\n",
    "print(cities)\n",
    "print(type(cities))\n",
    "\n"
   ]
  },
  {
   "cell_type": "code",
   "execution_count": 23,
   "metadata": {},
   "outputs": [
    {
     "name": "stdout",
     "output_type": "stream",
     "text": [
      "distances\n",
      "46\n",
      "[[0, 29, 82, 46, 68, 52, 72, 42, 51, 55, 29, 74, 23, 72, 46], [29, 0, 55, 46, 42, 43, 43, 23, 23, 31, 41, 51, 11, 52, 21], [82, 55, 0, 68, 46, 55, 23, 43, 41, 29, 79, 21, 64, 31, 51], [46, 46, 68, 0, 82, 15, 72, 31, 62, 42, 21, 51, 51, 43, 64], [68, 42, 46, 82, 0, 74, 23, 52, 21, 46, 82, 58, 46, 65, 23], [52, 43, 55, 15, 74, 0, 61, 23, 55, 31, 33, 37, 51, 29, 59], [72, 43, 23, 72, 23, 61, 0, 42, 23, 31, 77, 37, 51, 46, 33], [42, 23, 43, 31, 52, 23, 42, 0, 33, 15, 37, 33, 33, 31, 37], [51, 23, 41, 62, 21, 55, 23, 33, 0, 29, 62, 46, 29, 51, 11], [55, 31, 29, 42, 46, 31, 31, 15, 29, 0, 51, 21, 41, 23, 37], [29, 41, 79, 21, 82, 33, 77, 37, 62, 51, 0, 65, 42, 59, 61], [74, 51, 21, 51, 58, 37, 37, 33, 46, 21, 65, 0, 61, 11, 55], [23, 11, 64, 51, 46, 51, 51, 33, 29, 41, 42, 61, 0, 62, 23], [72, 52, 31, 43, 65, 29, 46, 31, 51, 23, 59, 11, 62, 0, 59], [46, 21, 51, 64, 23, 59, 33, 37, 11, 37, 61, 55, 23, 59, 0]]\n",
      "<class 'list'>\n"
     ]
    }
   ],
   "source": [
    "distances = problem.edge_weights\n",
    "print(\"distances\")\n",
    "print(distances[0][14])\n",
    "print(distances)\n",
    "print(type(distances))\n",
    "\n"
   ]
  },
  {
   "cell_type": "code",
   "execution_count": 24,
   "metadata": {},
   "outputs": [
    {
     "name": "stdout",
     "output_type": "stream",
     "text": [
      "[[0, 5, 7, 11, 8, 2, 13, 3, 14, 10, 9, 4, 6, 1, 12, 0], [0, 7, 9, 5, 12, 10, 6, 1, 11, 13, 2, 3, 4, 14, 8, 0], [0, 1, 11, 10, 7, 5, 6, 9, 13, 14, 8, 3, 12, 4, 2, 0], [0, 1, 4, 8, 6, 11, 12, 5, 14, 9, 2, 10, 3, 13, 7, 0], [0, 6, 5, 10, 14, 11, 8, 9, 3, 7, 4, 2, 12, 13, 1, 0], [0, 11, 8, 3, 7, 13, 12, 9, 1, 14, 10, 6, 2, 5, 4, 0], [0, 13, 11, 6, 9, 7, 1, 2, 8, 12, 3, 10, 5, 4, 14, 0], [0, 12, 4, 8, 2, 11, 1, 6, 13, 3, 10, 9, 7, 14, 5, 0], [0, 1, 11, 4, 13, 10, 7, 14, 5, 2, 12, 8, 9, 6, 3, 0], [0, 12, 1, 13, 8, 6, 5, 14, 4, 9, 3, 7, 10, 2, 11, 0]]\n",
      "16\n"
     ]
    }
   ],
   "source": [
    "GA_1 = GA.GeneticAlgorithm(cities, distances, 0, 10, 1)\n",
    "GA_1.initialize_population()\n",
    "print(GA_1.population)\n",
    "print(len(GA_1.population[0]))\n",
    "\n",
    "#fitness = GA_1.fitness(GA_1.population[0])\n",
    "#print(fitness)\n",
    "\n"
   ]
  },
  {
   "cell_type": "code",
   "execution_count": 33,
   "metadata": {},
   "outputs": [
    {
     "name": "stdout",
     "output_type": "stream",
     "text": [
      "[0.1692047377326565, 0.1589825119236884, 0.14771048744460857, 0.1652892561983471, 0.1360544217687075, 0.13210039630118892, 0.17793594306049823, 0.17543859649122806, 0.13869625520110956, 0.1579778830963665]\n",
      "[5, 4, 8, 2, 9, 1, 3, 0, 7, 6]\n",
      "selected chromosomes : [[0, 1, 11, 10, 7, 5, 6, 9, 13, 14, 8, 3, 12, 4, 2, 0], [0, 12, 1, 13, 8, 6, 5, 14, 4, 9, 3, 7, 10, 2, 11, 0]]\n",
      "their fitness : [0.1579778830963665, 0.1579778830963665]\n"
     ]
    }
   ],
   "source": [
    "# test rank selection\n",
    "import random\n",
    "\n",
    "GA_1.evaluate_fitness()\n",
    "print(GA_1.population_fitness)\n",
    "\n",
    "GA_1.evaluate_rank()\n",
    "print(GA_1.population_rank)\n",
    "\n",
    "# select 2 chromosomes from population based on rank selection\n",
    "selected_chromosomes = random.choices(GA_1.population, weights=GA_1.population_rank, k=2)\n",
    "print(\"selected chromosomes :\", selected_chromosomes)\n",
    "\n",
    "selected_fitness = random.choices(GA_1.population_fitness, weights=GA_1.population_rank, k=2)\n",
    "print(\"their fitness :\", selected_fitness)\n",
    "\n"
   ]
  }
 ],
 "metadata": {
  "kernelspec": {
   "display_name": "Python 3",
   "language": "python",
   "name": "python3"
  },
  "language_info": {
   "codemirror_mode": {
    "name": "ipython",
    "version": 3
   },
   "file_extension": ".py",
   "mimetype": "text/x-python",
   "name": "python",
   "nbconvert_exporter": "python",
   "pygments_lexer": "ipython3",
   "version": "3.10.10"
  }
 },
 "nbformat": 4,
 "nbformat_minor": 2
}
