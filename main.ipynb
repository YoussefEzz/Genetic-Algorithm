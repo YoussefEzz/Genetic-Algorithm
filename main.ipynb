{
 "cells": [
  {
   "cell_type": "code",
   "execution_count": 1,
   "metadata": {},
   "outputs": [
    {
     "name": "stdout",
     "output_type": "stream",
     "text": [
      "NAME: gr17\n",
      "COMMENT: 17-city problem (Groetschel)\n",
      "TYPE: TSP\n",
      "DIMENSION: 17\n",
      "EDGE_WEIGHT_TYPE: EXPLICIT\n",
      "EDGE_WEIGHT_FORMAT: LOWER_DIAG_ROW\n",
      "EDGE_WEIGHT_SECTION:\n",
      "0 633 0 257 390 0 91 661 228 0 412 227\n",
      "169 383 0 150 488 112 120 267 0 80 572 196\n",
      "77 351 63 0 134 530 154 105 309 34 29 0\n",
      "259 555 372 175 338 264 232 249 0 505 289 262\n",
      "476 196 360 444 402 495 0 353 282 110 324 61\n",
      "208 292 250 352 154 0 324 638 437 240 421 329\n",
      "297 314 95 578 435 0 70 567 191 27 346 83\n",
      "47 68 189 439 287 254 0 211 466 74 182 243\n",
      "105 150 108 326 336 184 391 145 0 268 420 53\n",
      "239 199 123 207 165 383 240 140 448 202 57 0\n",
      "246 745 472 237 528 364 332 349 202 685 542 157\n",
      "289 426 483 0 121 518 142 84 297 35 29 36\n",
      "236 390 238 301 55 96 153 336 0\n",
      "EOF\n"
     ]
    }
   ],
   "source": [
    "import tsplib95\n",
    "\n",
    "problem = tsplib95.load('TSP files/gr17.tsp')\n",
    "\n",
    "print(problem.render())"
   ]
  }
 ],
 "metadata": {
  "kernelspec": {
   "display_name": "Python 3",
   "language": "python",
   "name": "python3"
  },
  "language_info": {
   "codemirror_mode": {
    "name": "ipython",
    "version": 3
   },
   "file_extension": ".py",
   "mimetype": "text/x-python",
   "name": "python",
   "nbconvert_exporter": "python",
   "pygments_lexer": "ipython3",
   "version": "3.10.10"
  }
 },
 "nbformat": 4,
 "nbformat_minor": 2
}
